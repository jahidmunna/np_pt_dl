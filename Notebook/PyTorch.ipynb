{
 "cells": [
  {
   "cell_type": "markdown",
   "id": "fd7893b6",
   "metadata": {},
   "source": [
    "# Import Libraries"
   ]
  },
  {
   "cell_type": "code",
   "execution_count": 1,
   "id": "fe1b8332",
   "metadata": {
    "ExecuteTime": {
     "end_time": "2023-02-20T02:07:25.309318Z",
     "start_time": "2023-02-20T02:07:24.842281Z"
    }
   },
   "outputs": [],
   "source": [
    "import torch\n",
    "import numpy as np"
   ]
  },
  {
   "cell_type": "code",
   "execution_count": 2,
   "id": "33dfaaed",
   "metadata": {
    "ExecuteTime": {
     "end_time": "2023-02-20T02:07:25.318910Z",
     "start_time": "2023-02-20T02:07:25.311302Z"
    }
   },
   "outputs": [
    {
     "data": {
      "text/plain": [
       "'1.11.0'"
      ]
     },
     "execution_count": 2,
     "metadata": {},
     "output_type": "execute_result"
    }
   ],
   "source": [
    "torch.__version__"
   ]
  },
  {
   "cell_type": "markdown",
   "id": "c169c976",
   "metadata": {},
   "source": [
    "# Create Different Types of Tensors"
   ]
  },
  {
   "cell_type": "markdown",
   "id": "c4ccc1cf",
   "metadata": {},
   "source": [
    "## Numpy Array to Tensor"
   ]
  },
  {
   "cell_type": "code",
   "execution_count": 3,
   "id": "972a2537",
   "metadata": {
    "ExecuteTime": {
     "end_time": "2023-02-20T02:07:25.323891Z",
     "start_time": "2023-02-20T02:07:25.320169Z"
    }
   },
   "outputs": [
    {
     "data": {
      "text/plain": [
       "array([0, 1, 2, 3, 4, 5])"
      ]
     },
     "execution_count": 3,
     "metadata": {},
     "output_type": "execute_result"
    }
   ],
   "source": [
    "np_arr = np.arange(0,6)\n",
    "np_arr"
   ]
  },
  {
   "cell_type": "code",
   "execution_count": 4,
   "id": "8e6b4a39",
   "metadata": {
    "ExecuteTime": {
     "end_time": "2023-02-20T02:07:25.329554Z",
     "start_time": "2023-02-20T02:07:25.326258Z"
    }
   },
   "outputs": [
    {
     "data": {
      "text/plain": [
       "dtype('int64')"
      ]
     },
     "execution_count": 4,
     "metadata": {},
     "output_type": "execute_result"
    }
   ],
   "source": [
    "np_arr.dtype"
   ]
  },
  {
   "cell_type": "code",
   "execution_count": 5,
   "id": "d0272b38",
   "metadata": {
    "ExecuteTime": {
     "end_time": "2023-02-20T02:07:25.334029Z",
     "start_time": "2023-02-20T02:07:25.330858Z"
    }
   },
   "outputs": [
    {
     "data": {
      "text/plain": [
       "numpy.ndarray"
      ]
     },
     "execution_count": 5,
     "metadata": {},
     "output_type": "execute_result"
    }
   ],
   "source": [
    "type(np_arr)"
   ]
  },
  {
   "cell_type": "code",
   "execution_count": 6,
   "id": "47eaeb1c",
   "metadata": {
    "ExecuteTime": {
     "end_time": "2023-02-20T02:07:25.339262Z",
     "start_time": "2023-02-20T02:07:25.335475Z"
    }
   },
   "outputs": [
    {
     "data": {
      "text/plain": [
       "tensor([0, 1, 2, 3, 4, 5])"
      ]
     },
     "execution_count": 6,
     "metadata": {},
     "output_type": "execute_result"
    }
   ],
   "source": [
    "torch_arr = torch.from_numpy(np_arr)\n",
    "torch_arr"
   ]
  },
  {
   "cell_type": "code",
   "execution_count": 7,
   "id": "025842d2",
   "metadata": {
    "ExecuteTime": {
     "end_time": "2023-02-20T02:07:25.343428Z",
     "start_time": "2023-02-20T02:07:25.340490Z"
    }
   },
   "outputs": [
    {
     "data": {
      "text/plain": [
       "torch.int64"
      ]
     },
     "execution_count": 7,
     "metadata": {},
     "output_type": "execute_result"
    }
   ],
   "source": [
    "torch_arr.dtype"
   ]
  },
  {
   "cell_type": "code",
   "execution_count": 8,
   "id": "cc35b62a",
   "metadata": {
    "ExecuteTime": {
     "end_time": "2023-02-20T02:07:25.347832Z",
     "start_time": "2023-02-20T02:07:25.344788Z"
    }
   },
   "outputs": [
    {
     "data": {
      "text/plain": [
       "torch.Tensor"
      ]
     },
     "execution_count": 8,
     "metadata": {},
     "output_type": "execute_result"
    }
   ],
   "source": [
    "type(torch_arr)"
   ]
  },
  {
   "cell_type": "code",
   "execution_count": 9,
   "id": "c5bf2c84",
   "metadata": {
    "ExecuteTime": {
     "end_time": "2023-02-20T02:07:25.351986Z",
     "start_time": "2023-02-20T02:07:25.348995Z"
    }
   },
   "outputs": [
    {
     "data": {
      "text/plain": [
       "array([0, 1, 2, 3, 4, 5])"
      ]
     },
     "execution_count": 9,
     "metadata": {},
     "output_type": "execute_result"
    }
   ],
   "source": [
    "np_arr"
   ]
  },
  {
   "cell_type": "code",
   "execution_count": 10,
   "id": "6de57112",
   "metadata": {
    "ExecuteTime": {
     "end_time": "2023-02-20T02:07:25.358134Z",
     "start_time": "2023-02-20T02:07:25.355724Z"
    }
   },
   "outputs": [],
   "source": [
    "my_tensor_arr1 = torch.from_numpy(np_arr)\n",
    "my_tensor_arr2 = torch.tensor(np_arr)"
   ]
  },
  {
   "cell_type": "code",
   "execution_count": 11,
   "id": "1e9ac1a6",
   "metadata": {
    "ExecuteTime": {
     "end_time": "2023-02-20T02:07:25.363185Z",
     "start_time": "2023-02-20T02:07:25.359479Z"
    }
   },
   "outputs": [
    {
     "data": {
      "text/plain": [
       "tensor([0, 1, 2, 3, 4, 5])"
      ]
     },
     "execution_count": 11,
     "metadata": {},
     "output_type": "execute_result"
    }
   ],
   "source": [
    "my_tensor_arr1"
   ]
  },
  {
   "cell_type": "code",
   "execution_count": 12,
   "id": "f02e7b46",
   "metadata": {
    "ExecuteTime": {
     "end_time": "2023-02-20T02:07:25.367858Z",
     "start_time": "2023-02-20T02:07:25.364431Z"
    }
   },
   "outputs": [
    {
     "data": {
      "text/plain": [
       "tensor([0, 1, 2, 3, 4, 5])"
      ]
     },
     "execution_count": 12,
     "metadata": {},
     "output_type": "execute_result"
    }
   ],
   "source": [
    "my_tensor_arr2"
   ]
  },
  {
   "cell_type": "code",
   "execution_count": 13,
   "id": "213797cb",
   "metadata": {
    "ExecuteTime": {
     "end_time": "2023-02-20T02:07:25.372716Z",
     "start_time": "2023-02-20T02:07:25.369188Z"
    }
   },
   "outputs": [
    {
     "data": {
      "text/plain": [
       "array([0, 1, 2, 3, 4, 5])"
      ]
     },
     "execution_count": 13,
     "metadata": {},
     "output_type": "execute_result"
    }
   ],
   "source": [
    "np_arr"
   ]
  },
  {
   "cell_type": "code",
   "execution_count": 14,
   "id": "907bc59f",
   "metadata": {
    "ExecuteTime": {
     "end_time": "2023-02-20T02:07:25.377189Z",
     "start_time": "2023-02-20T02:07:25.374104Z"
    }
   },
   "outputs": [
    {
     "data": {
      "text/plain": [
       "array([100,   1,   2,   3,   4,   5])"
      ]
     },
     "execution_count": 14,
     "metadata": {},
     "output_type": "execute_result"
    }
   ],
   "source": [
    "np_arr[0] = 100\n",
    "np_arr"
   ]
  },
  {
   "cell_type": "code",
   "execution_count": 15,
   "id": "66b7e930",
   "metadata": {
    "ExecuteTime": {
     "end_time": "2023-02-20T02:07:25.381657Z",
     "start_time": "2023-02-20T02:07:25.378613Z"
    }
   },
   "outputs": [
    {
     "data": {
      "text/plain": [
       "tensor([100,   1,   2,   3,   4,   5])"
      ]
     },
     "execution_count": 15,
     "metadata": {},
     "output_type": "execute_result"
    }
   ],
   "source": [
    "my_tensor_arr1"
   ]
  },
  {
   "cell_type": "code",
   "execution_count": 16,
   "id": "183c5097",
   "metadata": {
    "ExecuteTime": {
     "end_time": "2023-02-20T02:07:25.386316Z",
     "start_time": "2023-02-20T02:07:25.383028Z"
    }
   },
   "outputs": [
    {
     "data": {
      "text/plain": [
       "tensor([0, 1, 2, 3, 4, 5])"
      ]
     },
     "execution_count": 16,
     "metadata": {},
     "output_type": "execute_result"
    }
   ],
   "source": [
    "my_tensor_arr2"
   ]
  },
  {
   "cell_type": "markdown",
   "id": "2cf6e6f2",
   "metadata": {},
   "source": [
    "## Empty Tensor"
   ]
  },
  {
   "cell_type": "code",
   "execution_count": 17,
   "id": "de2238b4",
   "metadata": {
    "ExecuteTime": {
     "end_time": "2023-02-20T02:07:25.391838Z",
     "start_time": "2023-02-20T02:07:25.387590Z"
    }
   },
   "outputs": [
    {
     "data": {
      "text/plain": [
       "tensor([[ 0.0000e+00, -1.0842e-19],\n",
       "        [-7.4942e+35, -1.0845e-19],\n",
       "        [ 7.9605e+14,  4.5894e-41],\n",
       "        [ 7.9460e+14,  4.5894e-41]])"
      ]
     },
     "execution_count": 17,
     "metadata": {},
     "output_type": "execute_result"
    }
   ],
   "source": [
    "torch.empty(4,2)"
   ]
  },
  {
   "cell_type": "markdown",
   "id": "bff8b34c",
   "metadata": {},
   "source": [
    "## Zero Tensor"
   ]
  },
  {
   "cell_type": "code",
   "execution_count": 18,
   "id": "adeb006f",
   "metadata": {
    "ExecuteTime": {
     "end_time": "2023-02-20T02:07:25.396587Z",
     "start_time": "2023-02-20T02:07:25.393079Z"
    }
   },
   "outputs": [
    {
     "data": {
      "text/plain": [
       "tensor([[0., 0.],\n",
       "        [0., 0.],\n",
       "        [0., 0.],\n",
       "        [0., 0.]])"
      ]
     },
     "execution_count": 18,
     "metadata": {},
     "output_type": "execute_result"
    }
   ],
   "source": [
    "torch.zeros(4,2)"
   ]
  },
  {
   "cell_type": "code",
   "execution_count": 19,
   "id": "936bdf76",
   "metadata": {
    "ExecuteTime": {
     "end_time": "2023-02-20T02:07:25.401459Z",
     "start_time": "2023-02-20T02:07:25.397905Z"
    }
   },
   "outputs": [
    {
     "data": {
      "text/plain": [
       "tensor([[0, 0],\n",
       "        [0, 0],\n",
       "        [0, 0],\n",
       "        [0, 0]])"
      ]
     },
     "execution_count": 19,
     "metadata": {},
     "output_type": "execute_result"
    }
   ],
   "source": [
    "# integer tensor\n",
    "torch.zeros(4,2, dtype = torch.int64)"
   ]
  },
  {
   "cell_type": "markdown",
   "id": "3e4e129a",
   "metadata": {},
   "source": [
    "## Ones Tensor"
   ]
  },
  {
   "cell_type": "code",
   "execution_count": 20,
   "id": "c37b4983",
   "metadata": {
    "ExecuteTime": {
     "end_time": "2023-02-20T02:07:25.406850Z",
     "start_time": "2023-02-20T02:07:25.402917Z"
    }
   },
   "outputs": [
    {
     "data": {
      "text/plain": [
       "tensor([[1., 1., 1.],\n",
       "        [1., 1., 1.],\n",
       "        [1., 1., 1.],\n",
       "        [1., 1., 1.]])"
      ]
     },
     "execution_count": 20,
     "metadata": {},
     "output_type": "execute_result"
    }
   ],
   "source": [
    "torch.ones(4,3)"
   ]
  },
  {
   "cell_type": "code",
   "execution_count": 21,
   "id": "4e6d34bc",
   "metadata": {
    "ExecuteTime": {
     "end_time": "2023-02-20T02:07:25.411716Z",
     "start_time": "2023-02-20T02:07:25.408254Z"
    }
   },
   "outputs": [
    {
     "data": {
      "text/plain": [
       "tensor([[1, 1, 1],\n",
       "        [1, 1, 1],\n",
       "        [1, 1, 1],\n",
       "        [1, 1, 1]])"
      ]
     },
     "execution_count": 21,
     "metadata": {},
     "output_type": "execute_result"
    }
   ],
   "source": [
    "torch.ones(4,3, dtype=torch.int64)"
   ]
  },
  {
   "cell_type": "markdown",
   "id": "cde5ed74",
   "metadata": {},
   "source": [
    "## Tensor From Range"
   ]
  },
  {
   "cell_type": "code",
   "execution_count": 22,
   "id": "ceb3656e",
   "metadata": {
    "ExecuteTime": {
     "end_time": "2023-02-20T02:07:25.416184Z",
     "start_time": "2023-02-20T02:07:25.413053Z"
    }
   },
   "outputs": [
    {
     "data": {
      "text/plain": [
       "tensor([ 1,  2,  3,  4,  5,  6,  7,  8,  9, 10])"
      ]
     },
     "execution_count": 22,
     "metadata": {},
     "output_type": "execute_result"
    }
   ],
   "source": [
    "torch.arange(1, 11, 1)"
   ]
  },
  {
   "cell_type": "code",
   "execution_count": 23,
   "id": "f77c1643",
   "metadata": {
    "ExecuteTime": {
     "end_time": "2023-02-20T02:07:25.421327Z",
     "start_time": "2023-02-20T02:07:25.417498Z"
    }
   },
   "outputs": [
    {
     "data": {
      "text/plain": [
       "tensor([[ 1,  2,  3,  4,  5],\n",
       "        [ 6,  7,  8,  9, 10]])"
      ]
     },
     "execution_count": 23,
     "metadata": {},
     "output_type": "execute_result"
    }
   ],
   "source": [
    "torch.arange(1, 11, 1).reshape(2,5)"
   ]
  },
  {
   "cell_type": "markdown",
   "id": "c16c6a5f",
   "metadata": {},
   "source": [
    "## Using linespace"
   ]
  },
  {
   "cell_type": "code",
   "execution_count": 24,
   "id": "1c0eda1f",
   "metadata": {
    "ExecuteTime": {
     "end_time": "2023-02-20T02:07:25.426659Z",
     "start_time": "2023-02-20T02:07:25.423192Z"
    }
   },
   "outputs": [
    {
     "data": {
      "text/plain": [
       "tensor([ 1,  2,  3,  4,  5,  6,  7,  8,  9, 10], dtype=torch.int8)"
      ]
     },
     "execution_count": 24,
     "metadata": {},
     "output_type": "execute_result"
    }
   ],
   "source": [
    "torch.linspace(1, 10, 10, dtype=torch.int8)"
   ]
  },
  {
   "cell_type": "code",
   "execution_count": 25,
   "id": "ed6141c2",
   "metadata": {
    "ExecuteTime": {
     "end_time": "2023-02-20T02:07:25.431805Z",
     "start_time": "2023-02-20T02:07:25.427992Z"
    },
    "scrolled": true
   },
   "outputs": [
    {
     "data": {
      "text/plain": [
       "tensor([[ 1,  2,  3,  4,  5],\n",
       "        [ 6,  7,  8,  9, 10]], dtype=torch.int8)"
      ]
     },
     "execution_count": 25,
     "metadata": {},
     "output_type": "execute_result"
    }
   ],
   "source": [
    "torch.linspace(1, 10, 10, dtype=torch.int8).reshape(2,5)"
   ]
  },
  {
   "cell_type": "markdown",
   "id": "4bf1d71e",
   "metadata": {},
   "source": [
    "## From List to tensor"
   ]
  },
  {
   "cell_type": "code",
   "execution_count": 26,
   "id": "1177393a",
   "metadata": {
    "ExecuteTime": {
     "end_time": "2023-02-20T02:07:25.436740Z",
     "start_time": "2023-02-20T02:07:25.433198Z"
    }
   },
   "outputs": [
    {
     "data": {
      "text/plain": [
       "tensor([1, 3, 5])"
      ]
     },
     "execution_count": 26,
     "metadata": {},
     "output_type": "execute_result"
    }
   ],
   "source": [
    "torch.tensor([1, 3, 5])"
   ]
  },
  {
   "cell_type": "markdown",
   "id": "b9424c54",
   "metadata": {},
   "source": [
    "## Using Random Number"
   ]
  },
  {
   "cell_type": "code",
   "execution_count": 37,
   "id": "cc6f4612",
   "metadata": {
    "ExecuteTime": {
     "end_time": "2023-02-20T02:11:52.180752Z",
     "start_time": "2023-02-20T02:11:52.174477Z"
    }
   },
   "outputs": [
    {
     "data": {
      "text/plain": [
       "tensor([[0.5376, 0.8489, 0.4192],\n",
       "        [0.3997, 0.7177, 0.8469],\n",
       "        [0.5184, 0.5354, 0.7301],\n",
       "        [0.7548, 0.9646, 0.4403]])"
      ]
     },
     "execution_count": 37,
     "metadata": {},
     "output_type": "execute_result"
    }
   ],
   "source": [
    "torch.rand(4,3)"
   ]
  },
  {
   "cell_type": "code",
   "execution_count": 41,
   "id": "8c44c9ad",
   "metadata": {
    "ExecuteTime": {
     "end_time": "2023-02-20T02:12:48.097225Z",
     "start_time": "2023-02-20T02:12:48.092740Z"
    }
   },
   "outputs": [
    {
     "data": {
      "text/plain": [
       "tensor([[ 0.5720, -0.2174, -0.0274],\n",
       "        [-1.4308,  1.2592, -0.1028],\n",
       "        [-0.2325,  2.6576,  0.4156],\n",
       "        [ 0.3033,  1.9944, -0.0311]])"
      ]
     },
     "execution_count": 41,
     "metadata": {},
     "output_type": "execute_result"
    }
   ],
   "source": [
    "# mean 0, std 1\n",
    "torch.randn(4,3)"
   ]
  },
  {
   "cell_type": "code",
   "execution_count": 42,
   "id": "57a02fdf",
   "metadata": {
    "ExecuteTime": {
     "end_time": "2023-02-20T02:13:34.925550Z",
     "start_time": "2023-02-20T02:13:34.921087Z"
    }
   },
   "outputs": [
    {
     "data": {
      "text/plain": [
       "tensor([[ 3,  9,  1,  4,  7],\n",
       "        [10, 10,  8,  8,  1]])"
      ]
     },
     "execution_count": 42,
     "metadata": {},
     "output_type": "execute_result"
    }
   ],
   "source": [
    "torch.randint(low=0, high=11, size=(2,5))"
   ]
  },
  {
   "cell_type": "markdown",
   "id": "a77928bf",
   "metadata": {},
   "source": [
    "##  Same Shape of a tensor"
   ]
  },
  {
   "cell_type": "code",
   "execution_count": 54,
   "id": "f400ea71",
   "metadata": {
    "ExecuteTime": {
     "end_time": "2023-02-20T02:20:46.025764Z",
     "start_time": "2023-02-20T02:20:46.021385Z"
    }
   },
   "outputs": [
    {
     "data": {
      "text/plain": [
       "tensor([[1, 3],\n",
       "        [2, 5],\n",
       "        [8, 0]])"
      ]
     },
     "execution_count": 54,
     "metadata": {},
     "output_type": "execute_result"
    }
   ],
   "source": [
    "a = torch.tensor([\n",
    "        [1, 3],\n",
    "        [2, 5], \n",
    "        [8, 0]\n",
    "    ])\n",
    "a"
   ]
  },
  {
   "cell_type": "code",
   "execution_count": 60,
   "id": "708e3651",
   "metadata": {
    "ExecuteTime": {
     "end_time": "2023-02-20T02:21:16.112809Z",
     "start_time": "2023-02-20T02:21:16.108078Z"
    }
   },
   "outputs": [
    {
     "data": {
      "text/plain": [
       "tensor([[0.6035, 0.0988],\n",
       "        [0.5131, 0.1624],\n",
       "        [0.6838, 0.5290]])"
      ]
     },
     "execution_count": 60,
     "metadata": {},
     "output_type": "execute_result"
    }
   ],
   "source": [
    "b = torch.rand_like(a, dtype=torch.float)\n",
    "b"
   ]
  },
  {
   "cell_type": "code",
   "execution_count": 58,
   "id": "cb9ae582",
   "metadata": {
    "ExecuteTime": {
     "end_time": "2023-02-20T02:21:03.712364Z",
     "start_time": "2023-02-20T02:21:03.708503Z"
    }
   },
   "outputs": [
    {
     "data": {
      "text/plain": [
       "torch.float32"
      ]
     },
     "execution_count": 58,
     "metadata": {},
     "output_type": "execute_result"
    }
   ],
   "source": [
    "b.dtype"
   ]
  },
  {
   "cell_type": "markdown",
   "id": "5551efac",
   "metadata": {},
   "source": [
    "# Tensor Operations"
   ]
  },
  {
   "cell_type": "markdown",
   "id": "5e112405",
   "metadata": {},
   "source": [
    "## Change Data Type "
   ]
  },
  {
   "cell_type": "code",
   "execution_count": 28,
   "id": "45dcd760",
   "metadata": {
    "ExecuteTime": {
     "end_time": "2023-02-20T02:09:22.572503Z",
     "start_time": "2023-02-20T02:09:22.568030Z"
    }
   },
   "outputs": [
    {
     "data": {
      "text/plain": [
       "tensor([[ 1,  2,  3,  4,  5],\n",
       "        [ 6,  7,  8,  9, 10]])"
      ]
     },
     "execution_count": 28,
     "metadata": {},
     "output_type": "execute_result"
    }
   ],
   "source": [
    "initial_tensor = torch.arange(1, 11, 1).reshape(2,5)\n",
    "initial_tensor"
   ]
  },
  {
   "cell_type": "code",
   "execution_count": 29,
   "id": "6defb1d0",
   "metadata": {
    "ExecuteTime": {
     "end_time": "2023-02-20T02:09:30.118065Z",
     "start_time": "2023-02-20T02:09:30.113966Z"
    }
   },
   "outputs": [
    {
     "data": {
      "text/plain": [
       "torch.int64"
      ]
     },
     "execution_count": 29,
     "metadata": {},
     "output_type": "execute_result"
    }
   ],
   "source": [
    "initial_tensor.dtype"
   ]
  },
  {
   "cell_type": "code",
   "execution_count": 32,
   "id": "5cc65289",
   "metadata": {
    "ExecuteTime": {
     "end_time": "2023-02-20T02:09:56.577969Z",
     "start_time": "2023-02-20T02:09:56.575715Z"
    }
   },
   "outputs": [],
   "source": [
    "# convert it from int64 to int8"
   ]
  },
  {
   "cell_type": "code",
   "execution_count": 35,
   "id": "6f0eb2e3",
   "metadata": {
    "ExecuteTime": {
     "end_time": "2023-02-20T02:10:53.437409Z",
     "start_time": "2023-02-20T02:10:53.433267Z"
    }
   },
   "outputs": [
    {
     "data": {
      "text/plain": [
       "tensor([[ 1,  2,  3,  4,  5],\n",
       "        [ 6,  7,  8,  9, 10]], dtype=torch.int8)"
      ]
     },
     "execution_count": 35,
     "metadata": {},
     "output_type": "execute_result"
    }
   ],
   "source": [
    "initial_tensor = initial_tensor.type(torch.int8)\n",
    "initial_tensor"
   ]
  },
  {
   "cell_type": "code",
   "execution_count": 36,
   "id": "56e41ecc",
   "metadata": {
    "ExecuteTime": {
     "end_time": "2023-02-20T02:10:54.085854Z",
     "start_time": "2023-02-20T02:10:54.082146Z"
    }
   },
   "outputs": [
    {
     "data": {
      "text/plain": [
       "torch.int8"
      ]
     },
     "execution_count": 36,
     "metadata": {},
     "output_type": "execute_result"
    }
   ],
   "source": [
    "initial_tensor.dtype"
   ]
  },
  {
   "cell_type": "markdown",
   "id": "373ad149",
   "metadata": {},
   "source": [
    "## Manual Seed"
   ]
  },
  {
   "cell_type": "code",
   "execution_count": 61,
   "id": "3bf4951b",
   "metadata": {
    "ExecuteTime": {
     "end_time": "2023-02-20T02:23:22.304077Z",
     "start_time": "2023-02-20T02:23:22.297060Z"
    }
   },
   "outputs": [
    {
     "data": {
      "text/plain": [
       "tensor([[0.8823, 0.9150, 0.3829],\n",
       "        [0.9593, 0.3904, 0.6009]])"
      ]
     },
     "execution_count": 61,
     "metadata": {},
     "output_type": "execute_result"
    }
   ],
   "source": [
    "torch.manual_seed(42)\n",
    "torch.rand(2,3)"
   ]
  },
  {
   "cell_type": "markdown",
   "id": "9019e6cf",
   "metadata": {},
   "source": [
    "## Slicing Tensor"
   ]
  },
  {
   "cell_type": "code",
   "execution_count": 64,
   "id": "11b8edf3",
   "metadata": {
    "ExecuteTime": {
     "end_time": "2023-02-20T02:25:31.929003Z",
     "start_time": "2023-02-20T02:25:31.924755Z"
    }
   },
   "outputs": [
    {
     "data": {
      "text/plain": [
       "tensor([[0, 1],\n",
       "        [2, 3],\n",
       "        [4, 5]])"
      ]
     },
     "execution_count": 64,
     "metadata": {},
     "output_type": "execute_result"
    }
   ],
   "source": [
    "x = torch.arange(6).reshape(3,2)\n",
    "x"
   ]
  },
  {
   "cell_type": "code",
   "execution_count": 68,
   "id": "20109162",
   "metadata": {
    "ExecuteTime": {
     "end_time": "2023-02-20T02:26:51.287165Z",
     "start_time": "2023-02-20T02:26:51.283180Z"
    }
   },
   "outputs": [
    {
     "data": {
      "text/plain": [
       "tensor(4)"
      ]
     },
     "execution_count": 68,
     "metadata": {},
     "output_type": "execute_result"
    }
   ],
   "source": [
    "# get value from row 2, column 0 => 4\n",
    "x[2,0]"
   ]
  },
  {
   "cell_type": "code",
   "execution_count": 69,
   "id": "fc63ee6c",
   "metadata": {
    "ExecuteTime": {
     "end_time": "2023-02-20T02:27:06.262729Z",
     "start_time": "2023-02-20T02:27:06.258033Z"
    }
   },
   "outputs": [
    {
     "data": {
      "text/plain": [
       "tensor([1, 3, 5])"
      ]
     },
     "execution_count": 69,
     "metadata": {},
     "output_type": "execute_result"
    }
   ],
   "source": [
    "# get all the values of column 1\n",
    "x[:,1]"
   ]
  },
  {
   "cell_type": "code",
   "execution_count": 74,
   "id": "1994dc6f",
   "metadata": {
    "ExecuteTime": {
     "end_time": "2023-02-20T02:29:06.010629Z",
     "start_time": "2023-02-20T02:29:06.006346Z"
    }
   },
   "outputs": [
    {
     "data": {
      "text/plain": [
       "tensor([[0],\n",
       "        [2],\n",
       "        [4]])"
      ]
     },
     "execution_count": 74,
     "metadata": {},
     "output_type": "execute_result"
    }
   ],
   "source": [
    "# Slicing the values of column0\n",
    "x[:, 0:1]"
   ]
  },
  {
   "cell_type": "code",
   "execution_count": null,
   "id": "82d5b5e9",
   "metadata": {},
   "outputs": [],
   "source": []
  }
 ],
 "metadata": {
  "kernelspec": {
   "display_name": "Python 3 (ipykernel)",
   "language": "python",
   "name": "python3"
  },
  "language_info": {
   "codemirror_mode": {
    "name": "ipython",
    "version": 3
   },
   "file_extension": ".py",
   "mimetype": "text/x-python",
   "name": "python",
   "nbconvert_exporter": "python",
   "pygments_lexer": "ipython3",
   "version": "3.9.7"
  },
  "toc": {
   "base_numbering": 1,
   "nav_menu": {},
   "number_sections": true,
   "sideBar": true,
   "skip_h1_title": false,
   "title_cell": "Table of Contents",
   "title_sidebar": "Contents",
   "toc_cell": false,
   "toc_position": {},
   "toc_section_display": true,
   "toc_window_display": true
  },
  "varInspector": {
   "cols": {
    "lenName": 16,
    "lenType": 16,
    "lenVar": 40
   },
   "kernels_config": {
    "python": {
     "delete_cmd_postfix": "",
     "delete_cmd_prefix": "del ",
     "library": "var_list.py",
     "varRefreshCmd": "print(var_dic_list())"
    },
    "r": {
     "delete_cmd_postfix": ") ",
     "delete_cmd_prefix": "rm(",
     "library": "var_list.r",
     "varRefreshCmd": "cat(var_dic_list()) "
    }
   },
   "types_to_exclude": [
    "module",
    "function",
    "builtin_function_or_method",
    "instance",
    "_Feature"
   ],
   "window_display": false
  }
 },
 "nbformat": 4,
 "nbformat_minor": 5
}
