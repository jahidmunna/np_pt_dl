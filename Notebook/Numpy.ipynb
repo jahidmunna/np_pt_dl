{
 "cells": [
  {
   "cell_type": "markdown",
   "id": "276fda26",
   "metadata": {},
   "source": [
    "# Import Libraries"
   ]
  },
  {
   "cell_type": "code",
   "execution_count": 1,
   "id": "99c6baa7",
   "metadata": {
    "ExecuteTime": {
     "end_time": "2023-01-30T06:55:05.712556Z",
     "start_time": "2023-01-30T06:55:05.606730Z"
    }
   },
   "outputs": [],
   "source": [
    "import numpy as np"
   ]
  },
  {
   "cell_type": "markdown",
   "id": "5d57dd47",
   "metadata": {},
   "source": [
    "# Numpy Array"
   ]
  },
  {
   "cell_type": "markdown",
   "id": "efd969f7",
   "metadata": {},
   "source": [
    "## Diamention Based"
   ]
  },
  {
   "cell_type": "markdown",
   "id": "a15604bb",
   "metadata": {},
   "source": [
    "### 1D array"
   ]
  },
  {
   "cell_type": "code",
   "execution_count": 2,
   "id": "d2b6031e",
   "metadata": {
    "ExecuteTime": {
     "end_time": "2023-01-30T06:55:05.722672Z",
     "start_time": "2023-01-30T06:55:05.714534Z"
    }
   },
   "outputs": [
    {
     "data": {
      "text/plain": [
       "[1, 2, 3]"
      ]
     },
     "execution_count": 2,
     "metadata": {},
     "output_type": "execute_result"
    }
   ],
   "source": [
    "list = [1,2,3]\n",
    "list"
   ]
  },
  {
   "cell_type": "code",
   "execution_count": 3,
   "id": "b9377dc0",
   "metadata": {
    "ExecuteTime": {
     "end_time": "2023-01-30T06:55:05.727460Z",
     "start_time": "2023-01-30T06:55:05.724220Z"
    }
   },
   "outputs": [
    {
     "data": {
      "text/plain": [
       "array([1, 2, 3])"
      ]
     },
     "execution_count": 3,
     "metadata": {},
     "output_type": "execute_result"
    }
   ],
   "source": [
    "np_list = np.array(list)\n",
    "np_list"
   ]
  },
  {
   "cell_type": "markdown",
   "id": "15462957",
   "metadata": {},
   "source": [
    "### 2D array"
   ]
  },
  {
   "cell_type": "code",
   "execution_count": 4,
   "id": "625a84ed",
   "metadata": {
    "ExecuteTime": {
     "end_time": "2023-01-30T06:55:05.733954Z",
     "start_time": "2023-01-30T06:55:05.730083Z"
    }
   },
   "outputs": [
    {
     "data": {
      "text/plain": [
       "array([[1, 2, 3],\n",
       "       [4, 5, 6]])"
      ]
     },
     "execution_count": 4,
     "metadata": {},
     "output_type": "execute_result"
    }
   ],
   "source": [
    "list2 = [\n",
    "    [1, 2, 3],\n",
    "    [4, 5, 6]\n",
    "]\n",
    "np_2d_list = np.array(list2)\n",
    "np_2d_list"
   ]
  },
  {
   "cell_type": "markdown",
   "id": "45125658",
   "metadata": {},
   "source": [
    "# Making np Array based on different conditions"
   ]
  },
  {
   "cell_type": "markdown",
   "id": "c139d31b",
   "metadata": {},
   "source": [
    "## Based on Start, End, Increament"
   ]
  },
  {
   "cell_type": "code",
   "execution_count": 5,
   "id": "0ea9c483",
   "metadata": {
    "ExecuteTime": {
     "end_time": "2023-01-30T06:55:05.739172Z",
     "start_time": "2023-01-30T06:55:05.735737Z"
    }
   },
   "outputs": [
    {
     "data": {
      "text/plain": [
       "array([ 0,  2,  4,  6,  8, 10])"
      ]
     },
     "execution_count": 5,
     "metadata": {},
     "output_type": "execute_result"
    }
   ],
   "source": [
    "np.arange(0,11,2)"
   ]
  },
  {
   "cell_type": "markdown",
   "id": "f1967b62",
   "metadata": {},
   "source": [
    "## Zeros matrix"
   ]
  },
  {
   "cell_type": "code",
   "execution_count": 6,
   "id": "920e5a47",
   "metadata": {
    "ExecuteTime": {
     "end_time": "2023-01-30T06:55:05.744517Z",
     "start_time": "2023-01-30T06:55:05.740700Z"
    }
   },
   "outputs": [
    {
     "data": {
      "text/plain": [
       "array([0., 0., 0., 0., 0.])"
      ]
     },
     "execution_count": 6,
     "metadata": {},
     "output_type": "execute_result"
    }
   ],
   "source": [
    "np.zeros(5)"
   ]
  },
  {
   "cell_type": "code",
   "execution_count": 7,
   "id": "34cd8b62",
   "metadata": {
    "ExecuteTime": {
     "end_time": "2023-01-30T06:55:05.751513Z",
     "start_time": "2023-01-30T06:55:05.746884Z"
    }
   },
   "outputs": [
    {
     "data": {
      "text/plain": [
       "array([[0., 0.],\n",
       "       [0., 0.],\n",
       "       [0., 0.]])"
      ]
     },
     "execution_count": 7,
     "metadata": {},
     "output_type": "execute_result"
    }
   ],
   "source": [
    "np.zeros((3,2))"
   ]
  },
  {
   "cell_type": "markdown",
   "id": "5d5e7a57",
   "metadata": {},
   "source": [
    "## Ones matrix"
   ]
  },
  {
   "cell_type": "code",
   "execution_count": 8,
   "id": "d97b78ef",
   "metadata": {
    "ExecuteTime": {
     "end_time": "2023-01-30T06:55:05.756976Z",
     "start_time": "2023-01-30T06:55:05.753171Z"
    }
   },
   "outputs": [
    {
     "data": {
      "text/plain": [
       "array([1., 1., 1., 1., 1.])"
      ]
     },
     "execution_count": 8,
     "metadata": {},
     "output_type": "execute_result"
    }
   ],
   "source": [
    "np.ones(5)"
   ]
  },
  {
   "cell_type": "code",
   "execution_count": 9,
   "id": "499e457b",
   "metadata": {
    "ExecuteTime": {
     "end_time": "2023-01-30T06:55:05.762234Z",
     "start_time": "2023-01-30T06:55:05.758639Z"
    }
   },
   "outputs": [
    {
     "data": {
      "text/plain": [
       "array([[1., 1.],\n",
       "       [1., 1.],\n",
       "       [1., 1.]])"
      ]
     },
     "execution_count": 9,
     "metadata": {},
     "output_type": "execute_result"
    }
   ],
   "source": [
    "np.ones((3,2))"
   ]
  },
  {
   "cell_type": "markdown",
   "id": "214f90e5",
   "metadata": {},
   "source": [
    "## Eye matrix"
   ]
  },
  {
   "cell_type": "code",
   "execution_count": 10,
   "id": "72a356ed",
   "metadata": {
    "ExecuteTime": {
     "end_time": "2023-01-30T06:55:05.770106Z",
     "start_time": "2023-01-30T06:55:05.766362Z"
    }
   },
   "outputs": [
    {
     "data": {
      "text/plain": [
       "array([[1., 0., 0., 0., 0.],\n",
       "       [0., 1., 0., 0., 0.],\n",
       "       [0., 0., 1., 0., 0.],\n",
       "       [0., 0., 0., 1., 0.],\n",
       "       [0., 0., 0., 0., 1.]])"
      ]
     },
     "execution_count": 10,
     "metadata": {},
     "output_type": "execute_result"
    }
   ],
   "source": [
    "np.eye(5)"
   ]
  },
  {
   "cell_type": "code",
   "execution_count": 11,
   "id": "e2e515b0",
   "metadata": {
    "ExecuteTime": {
     "end_time": "2023-01-30T06:55:05.774938Z",
     "start_time": "2023-01-30T06:55:05.771528Z"
    }
   },
   "outputs": [
    {
     "data": {
      "text/plain": [
       "array([[1., 0., 0.],\n",
       "       [0., 1., 0.]])"
      ]
     },
     "execution_count": 11,
     "metadata": {},
     "output_type": "execute_result"
    }
   ],
   "source": [
    "np.eye(2,3)"
   ]
  },
  {
   "cell_type": "markdown",
   "id": "6e682361",
   "metadata": {},
   "source": [
    "## Evenly distributed matrix based on start, stop, #elements"
   ]
  },
  {
   "cell_type": "code",
   "execution_count": 12,
   "id": "7e0bb870",
   "metadata": {
    "ExecuteTime": {
     "end_time": "2023-01-30T06:55:05.780550Z",
     "start_time": "2023-01-30T06:55:05.776673Z"
    }
   },
   "outputs": [
    {
     "data": {
      "text/plain": [
       "array([ 1.,  2.,  3.,  4.,  5.,  6.,  7.,  8.,  9., 10.])"
      ]
     },
     "execution_count": 12,
     "metadata": {},
     "output_type": "execute_result"
    }
   ],
   "source": [
    "np.linspace(1,10,10)"
   ]
  },
  {
   "cell_type": "code",
   "execution_count": 13,
   "id": "19a11831",
   "metadata": {
    "ExecuteTime": {
     "end_time": "2023-01-30T06:55:05.785865Z",
     "start_time": "2023-01-30T06:55:05.781993Z"
    }
   },
   "outputs": [
    {
     "data": {
      "text/plain": [
       "array([ 1.        ,  1.47368421,  1.94736842,  2.42105263,  2.89473684,\n",
       "        3.36842105,  3.84210526,  4.31578947,  4.78947368,  5.26315789,\n",
       "        5.73684211,  6.21052632,  6.68421053,  7.15789474,  7.63157895,\n",
       "        8.10526316,  8.57894737,  9.05263158,  9.52631579, 10.        ])"
      ]
     },
     "execution_count": 13,
     "metadata": {},
     "output_type": "execute_result"
    }
   ],
   "source": [
    "np.linspace(1,10,20)"
   ]
  },
  {
   "cell_type": "markdown",
   "id": "c9b2510f",
   "metadata": {},
   "source": [
    "## Random Matrix"
   ]
  },
  {
   "cell_type": "code",
   "execution_count": 14,
   "id": "9e1cdd32",
   "metadata": {
    "ExecuteTime": {
     "end_time": "2023-01-30T06:55:05.792329Z",
     "start_time": "2023-01-30T06:55:05.787478Z"
    }
   },
   "outputs": [
    {
     "data": {
      "text/plain": [
       "array([[0.96006317, 0.10424614, 0.2922639 , 0.21978753, 0.53663132],\n",
       "       [0.0347911 , 0.73980852, 0.11955085, 0.56546006, 0.83922683],\n",
       "       [0.24451565, 0.31434971, 0.75851284, 0.60286223, 0.10267877],\n",
       "       [0.29191079, 0.55567775, 0.89595135, 0.62609059, 0.86686527],\n",
       "       [0.38338322, 0.76651686, 0.73219574, 0.13348045, 0.03762427]])"
      ]
     },
     "execution_count": 14,
     "metadata": {},
     "output_type": "execute_result"
    }
   ],
   "source": [
    "np.random.rand(5,5)"
   ]
  },
  {
   "cell_type": "code",
   "execution_count": 15,
   "id": "4ca088ab",
   "metadata": {
    "ExecuteTime": {
     "end_time": "2023-01-30T06:55:05.799497Z",
     "start_time": "2023-01-30T06:55:05.794107Z"
    }
   },
   "outputs": [
    {
     "data": {
      "text/plain": [
       "array([3, 1, 4, 1])"
      ]
     },
     "execution_count": 15,
     "metadata": {},
     "output_type": "execute_result"
    }
   ],
   "source": [
    "np.random.randint(0,10, 4)"
   ]
  },
  {
   "cell_type": "code",
   "execution_count": 16,
   "id": "73c64d5e",
   "metadata": {
    "ExecuteTime": {
     "end_time": "2023-01-30T06:55:05.805344Z",
     "start_time": "2023-01-30T06:55:05.801251Z"
    }
   },
   "outputs": [
    {
     "data": {
      "text/plain": [
       "array([[7, 6, 1, 9],\n",
       "       [6, 3, 8, 1],\n",
       "       [1, 8, 6, 9],\n",
       "       [8, 4, 5, 2]])"
      ]
     },
     "execution_count": 16,
     "metadata": {},
     "output_type": "execute_result"
    }
   ],
   "source": [
    "np.random.randint(0,10, (4,4))"
   ]
  },
  {
   "cell_type": "markdown",
   "id": "8c6318ce",
   "metadata": {},
   "source": [
    "# Operation"
   ]
  },
  {
   "cell_type": "code",
   "execution_count": 17,
   "id": "8b5e3b1e",
   "metadata": {
    "ExecuteTime": {
     "end_time": "2023-01-30T06:55:05.811294Z",
     "start_time": "2023-01-30T06:55:05.807160Z"
    }
   },
   "outputs": [
    {
     "data": {
      "text/plain": [
       "array([10,  8,  6,  8,  2])"
      ]
     },
     "execution_count": 17,
     "metadata": {},
     "output_type": "execute_result"
    }
   ],
   "source": [
    "l = np.random.randint(1,11, 5)\n",
    "l"
   ]
  },
  {
   "cell_type": "markdown",
   "id": "42b2a2dd",
   "metadata": {},
   "source": [
    "## Get Max, Min"
   ]
  },
  {
   "cell_type": "code",
   "execution_count": 18,
   "id": "b19a23a0",
   "metadata": {
    "ExecuteTime": {
     "end_time": "2023-01-30T06:55:05.816803Z",
     "start_time": "2023-01-30T06:55:05.813305Z"
    }
   },
   "outputs": [
    {
     "data": {
      "text/plain": [
       "10"
      ]
     },
     "execution_count": 18,
     "metadata": {},
     "output_type": "execute_result"
    }
   ],
   "source": [
    "l.max()"
   ]
  },
  {
   "cell_type": "code",
   "execution_count": 19,
   "id": "04c47e2d",
   "metadata": {
    "ExecuteTime": {
     "end_time": "2023-01-30T06:55:05.822377Z",
     "start_time": "2023-01-30T06:55:05.818808Z"
    }
   },
   "outputs": [
    {
     "data": {
      "text/plain": [
       "2"
      ]
     },
     "execution_count": 19,
     "metadata": {},
     "output_type": "execute_result"
    }
   ],
   "source": [
    "l.min()"
   ]
  },
  {
   "cell_type": "markdown",
   "id": "e75d38ff",
   "metadata": {},
   "source": [
    "## Get Index of Max, Min"
   ]
  },
  {
   "cell_type": "code",
   "execution_count": 20,
   "id": "e7c7c308",
   "metadata": {
    "ExecuteTime": {
     "end_time": "2023-01-30T06:55:05.827287Z",
     "start_time": "2023-01-30T06:55:05.824016Z"
    }
   },
   "outputs": [
    {
     "data": {
      "text/plain": [
       "0"
      ]
     },
     "execution_count": 20,
     "metadata": {},
     "output_type": "execute_result"
    }
   ],
   "source": [
    "l.argmax()"
   ]
  },
  {
   "cell_type": "code",
   "execution_count": 21,
   "id": "4ad78c54",
   "metadata": {
    "ExecuteTime": {
     "end_time": "2023-01-30T06:55:05.832061Z",
     "start_time": "2023-01-30T06:55:05.828780Z"
    }
   },
   "outputs": [
    {
     "data": {
      "text/plain": [
       "4"
      ]
     },
     "execution_count": 21,
     "metadata": {},
     "output_type": "execute_result"
    }
   ],
   "source": [
    "l.argmin()"
   ]
  },
  {
   "cell_type": "markdown",
   "id": "94993204",
   "metadata": {},
   "source": [
    "## Slicing"
   ]
  },
  {
   "cell_type": "code",
   "execution_count": 22,
   "id": "08415b1a",
   "metadata": {
    "ExecuteTime": {
     "end_time": "2023-01-30T06:55:05.836839Z",
     "start_time": "2023-01-30T06:55:05.833389Z"
    }
   },
   "outputs": [
    {
     "data": {
      "text/plain": [
       "array([10,  8,  6,  8,  2])"
      ]
     },
     "execution_count": 22,
     "metadata": {},
     "output_type": "execute_result"
    }
   ],
   "source": [
    "l"
   ]
  },
  {
   "cell_type": "code",
   "execution_count": 23,
   "id": "a80f86d4",
   "metadata": {
    "ExecuteTime": {
     "end_time": "2023-01-30T06:55:05.842003Z",
     "start_time": "2023-01-30T06:55:05.838909Z"
    }
   },
   "outputs": [
    {
     "data": {
      "text/plain": [
       "array([8, 6, 8, 2])"
      ]
     },
     "execution_count": 23,
     "metadata": {},
     "output_type": "execute_result"
    }
   ],
   "source": [
    "l[1:]"
   ]
  },
  {
   "cell_type": "code",
   "execution_count": 24,
   "id": "bb991a2b",
   "metadata": {
    "ExecuteTime": {
     "end_time": "2023-01-30T06:55:05.846655Z",
     "start_time": "2023-01-30T06:55:05.843296Z"
    }
   },
   "outputs": [
    {
     "data": {
      "text/plain": [
       "array([ 2,  8,  6,  8, 10])"
      ]
     },
     "execution_count": 24,
     "metadata": {},
     "output_type": "execute_result"
    }
   ],
   "source": [
    "l[::-1]"
   ]
  },
  {
   "cell_type": "code",
   "execution_count": 25,
   "id": "5859288c",
   "metadata": {
    "ExecuteTime": {
     "end_time": "2023-01-30T06:55:05.850982Z",
     "start_time": "2023-01-30T06:55:05.847853Z"
    }
   },
   "outputs": [
    {
     "data": {
      "text/plain": [
       "array([10,  8,  6,  8,  2])"
      ]
     },
     "execution_count": 25,
     "metadata": {},
     "output_type": "execute_result"
    }
   ],
   "source": [
    "l"
   ]
  },
  {
   "cell_type": "code",
   "execution_count": 26,
   "id": "1f093fa2",
   "metadata": {
    "ExecuteTime": {
     "end_time": "2023-01-30T06:55:05.855822Z",
     "start_time": "2023-01-30T06:55:05.852313Z"
    }
   },
   "outputs": [
    {
     "data": {
      "text/plain": [
       "array([10,  6])"
      ]
     },
     "execution_count": 26,
     "metadata": {},
     "output_type": "execute_result"
    }
   ],
   "source": [
    "l[0:-1: 2]"
   ]
  },
  {
   "cell_type": "markdown",
   "id": "a7baa079",
   "metadata": {},
   "source": [
    "## Condition"
   ]
  },
  {
   "cell_type": "code",
   "execution_count": 27,
   "id": "e75b1347",
   "metadata": {
    "ExecuteTime": {
     "end_time": "2023-01-30T06:55:05.860530Z",
     "start_time": "2023-01-30T06:55:05.857321Z"
    }
   },
   "outputs": [
    {
     "data": {
      "text/plain": [
       "array([10,  8,  6,  8,  2])"
      ]
     },
     "execution_count": 27,
     "metadata": {},
     "output_type": "execute_result"
    }
   ],
   "source": [
    "l"
   ]
  },
  {
   "cell_type": "code",
   "execution_count": 28,
   "id": "5593383b",
   "metadata": {
    "ExecuteTime": {
     "end_time": "2023-01-30T06:55:13.833918Z",
     "start_time": "2023-01-30T06:55:13.830285Z"
    }
   },
   "outputs": [
    {
     "data": {
      "text/plain": [
       "array([ True,  True,  True,  True, False])"
      ]
     },
     "execution_count": 28,
     "metadata": {},
     "output_type": "execute_result"
    }
   ],
   "source": [
    "l>2"
   ]
  },
  {
   "cell_type": "code",
   "execution_count": 29,
   "id": "23cf6603",
   "metadata": {
    "ExecuteTime": {
     "end_time": "2023-01-30T06:55:18.513542Z",
     "start_time": "2023-01-30T06:55:18.509080Z"
    }
   },
   "outputs": [
    {
     "data": {
      "text/plain": [
       "array([10,  8,  6,  8])"
      ]
     },
     "execution_count": 29,
     "metadata": {},
     "output_type": "execute_result"
    }
   ],
   "source": [
    "l[l>2]"
   ]
  },
  {
   "cell_type": "code",
   "execution_count": 33,
   "id": "ec0ba4b5",
   "metadata": {
    "ExecuteTime": {
     "end_time": "2023-01-30T06:55:57.391020Z",
     "start_time": "2023-01-30T06:55:57.386903Z"
    }
   },
   "outputs": [
    {
     "data": {
      "text/plain": [
       "array([10,  8,  6,  8])"
      ]
     },
     "execution_count": 33,
     "metadata": {},
     "output_type": "execute_result"
    }
   ],
   "source": [
    "l[(l>2)&(l%2==0)]"
   ]
  },
  {
   "cell_type": "code",
   "execution_count": null,
   "id": "2b9e71ba",
   "metadata": {},
   "outputs": [],
   "source": []
  }
 ],
 "metadata": {
  "kernelspec": {
   "display_name": "Python 3 (ipykernel)",
   "language": "python",
   "name": "python3"
  },
  "language_info": {
   "codemirror_mode": {
    "name": "ipython",
    "version": 3
   },
   "file_extension": ".py",
   "mimetype": "text/x-python",
   "name": "python",
   "nbconvert_exporter": "python",
   "pygments_lexer": "ipython3",
   "version": "3.9.7"
  },
  "toc": {
   "base_numbering": 1,
   "nav_menu": {},
   "number_sections": true,
   "sideBar": true,
   "skip_h1_title": false,
   "title_cell": "Table of Contents",
   "title_sidebar": "Contents",
   "toc_cell": false,
   "toc_position": {},
   "toc_section_display": true,
   "toc_window_display": false
  },
  "varInspector": {
   "cols": {
    "lenName": 16,
    "lenType": 16,
    "lenVar": 40
   },
   "kernels_config": {
    "python": {
     "delete_cmd_postfix": "",
     "delete_cmd_prefix": "del ",
     "library": "var_list.py",
     "varRefreshCmd": "print(var_dic_list())"
    },
    "r": {
     "delete_cmd_postfix": ") ",
     "delete_cmd_prefix": "rm(",
     "library": "var_list.r",
     "varRefreshCmd": "cat(var_dic_list()) "
    }
   },
   "types_to_exclude": [
    "module",
    "function",
    "builtin_function_or_method",
    "instance",
    "_Feature"
   ],
   "window_display": false
  }
 },
 "nbformat": 4,
 "nbformat_minor": 5
}
