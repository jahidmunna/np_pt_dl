{
 "cells": [
  {
   "cell_type": "markdown",
   "id": "276fda26",
   "metadata": {},
   "source": [
    "# Import Libraries"
   ]
  },
  {
   "cell_type": "code",
   "execution_count": 1,
   "id": "99c6baa7",
   "metadata": {
    "ExecuteTime": {
     "end_time": "2023-01-30T01:48:26.536575Z",
     "start_time": "2023-01-30T01:48:25.402563Z"
    }
   },
   "outputs": [],
   "source": [
    "import numpy as np"
   ]
  },
  {
   "cell_type": "markdown",
   "id": "5d57dd47",
   "metadata": {},
   "source": [
    "# Numpy Array"
   ]
  },
  {
   "cell_type": "markdown",
   "id": "efd969f7",
   "metadata": {},
   "source": [
    "## Diamention Based"
   ]
  },
  {
   "cell_type": "markdown",
   "id": "a15604bb",
   "metadata": {},
   "source": [
    "### 1D array"
   ]
  },
  {
   "cell_type": "code",
   "execution_count": 2,
   "id": "d2b6031e",
   "metadata": {
    "ExecuteTime": {
     "end_time": "2023-01-30T01:48:26.546654Z",
     "start_time": "2023-01-30T01:48:26.539945Z"
    }
   },
   "outputs": [
    {
     "data": {
      "text/plain": [
       "[1, 2, 3]"
      ]
     },
     "execution_count": 2,
     "metadata": {},
     "output_type": "execute_result"
    }
   ],
   "source": [
    "list = [1,2,3]\n",
    "list"
   ]
  },
  {
   "cell_type": "code",
   "execution_count": 3,
   "id": "b9377dc0",
   "metadata": {
    "ExecuteTime": {
     "end_time": "2023-01-30T01:48:26.553425Z",
     "start_time": "2023-01-30T01:48:26.549173Z"
    }
   },
   "outputs": [
    {
     "data": {
      "text/plain": [
       "array([1, 2, 3])"
      ]
     },
     "execution_count": 3,
     "metadata": {},
     "output_type": "execute_result"
    }
   ],
   "source": [
    "np_list = np.array(list)\n",
    "np_list"
   ]
  },
  {
   "cell_type": "markdown",
   "id": "15462957",
   "metadata": {},
   "source": [
    "### 2D array"
   ]
  },
  {
   "cell_type": "code",
   "execution_count": 4,
   "id": "625a84ed",
   "metadata": {
    "ExecuteTime": {
     "end_time": "2023-01-30T01:48:26.558512Z",
     "start_time": "2023-01-30T01:48:26.554881Z"
    }
   },
   "outputs": [
    {
     "data": {
      "text/plain": [
       "array([[1, 2, 3],\n",
       "       [4, 5, 6]])"
      ]
     },
     "execution_count": 4,
     "metadata": {},
     "output_type": "execute_result"
    }
   ],
   "source": [
    "list2 = [\n",
    "    [1, 2, 3],\n",
    "    [4, 5, 6]\n",
    "]\n",
    "np_2d_list = np.array(list2)\n",
    "np_2d_list"
   ]
  },
  {
   "cell_type": "markdown",
   "id": "45125658",
   "metadata": {},
   "source": [
    "# Making np Array based on different conditions"
   ]
  },
  {
   "cell_type": "markdown",
   "id": "c139d31b",
   "metadata": {},
   "source": [
    "## Based on Start, End, Increament"
   ]
  },
  {
   "cell_type": "code",
   "execution_count": 5,
   "id": "0ea9c483",
   "metadata": {
    "ExecuteTime": {
     "end_time": "2023-01-30T01:48:26.566077Z",
     "start_time": "2023-01-30T01:48:26.562493Z"
    }
   },
   "outputs": [
    {
     "data": {
      "text/plain": [
       "array([ 0,  2,  4,  6,  8, 10])"
      ]
     },
     "execution_count": 5,
     "metadata": {},
     "output_type": "execute_result"
    }
   ],
   "source": [
    "np.arange(0,11,2)"
   ]
  },
  {
   "cell_type": "markdown",
   "id": "f1967b62",
   "metadata": {},
   "source": [
    "## Zeros matrix"
   ]
  },
  {
   "cell_type": "code",
   "execution_count": 6,
   "id": "920e5a47",
   "metadata": {
    "ExecuteTime": {
     "end_time": "2023-01-30T01:48:26.571653Z",
     "start_time": "2023-01-30T01:48:26.567767Z"
    }
   },
   "outputs": [
    {
     "data": {
      "text/plain": [
       "array([0., 0., 0., 0., 0.])"
      ]
     },
     "execution_count": 6,
     "metadata": {},
     "output_type": "execute_result"
    }
   ],
   "source": [
    "np.zeros(5)"
   ]
  },
  {
   "cell_type": "code",
   "execution_count": 7,
   "id": "34cd8b62",
   "metadata": {
    "ExecuteTime": {
     "end_time": "2023-01-30T01:48:26.577396Z",
     "start_time": "2023-01-30T01:48:26.573622Z"
    }
   },
   "outputs": [
    {
     "data": {
      "text/plain": [
       "array([[0., 0.],\n",
       "       [0., 0.],\n",
       "       [0., 0.]])"
      ]
     },
     "execution_count": 7,
     "metadata": {},
     "output_type": "execute_result"
    }
   ],
   "source": [
    "np.zeros((3,2))"
   ]
  },
  {
   "cell_type": "markdown",
   "id": "5d5e7a57",
   "metadata": {},
   "source": [
    "## Ones matrix"
   ]
  },
  {
   "cell_type": "code",
   "execution_count": 8,
   "id": "d97b78ef",
   "metadata": {
    "ExecuteTime": {
     "end_time": "2023-01-30T01:48:26.582934Z",
     "start_time": "2023-01-30T01:48:26.579323Z"
    }
   },
   "outputs": [
    {
     "data": {
      "text/plain": [
       "array([1., 1., 1., 1., 1.])"
      ]
     },
     "execution_count": 8,
     "metadata": {},
     "output_type": "execute_result"
    }
   ],
   "source": [
    "np.ones(5)"
   ]
  },
  {
   "cell_type": "code",
   "execution_count": 9,
   "id": "499e457b",
   "metadata": {
    "ExecuteTime": {
     "end_time": "2023-01-30T01:48:26.588371Z",
     "start_time": "2023-01-30T01:48:26.584569Z"
    }
   },
   "outputs": [
    {
     "data": {
      "text/plain": [
       "array([[1., 1.],\n",
       "       [1., 1.],\n",
       "       [1., 1.]])"
      ]
     },
     "execution_count": 9,
     "metadata": {},
     "output_type": "execute_result"
    }
   ],
   "source": [
    "np.ones((3,2))"
   ]
  },
  {
   "cell_type": "markdown",
   "id": "214f90e5",
   "metadata": {},
   "source": [
    "## Eye matrix"
   ]
  },
  {
   "cell_type": "code",
   "execution_count": 10,
   "id": "72a356ed",
   "metadata": {
    "ExecuteTime": {
     "end_time": "2023-01-30T01:48:26.594236Z",
     "start_time": "2023-01-30T01:48:26.590559Z"
    }
   },
   "outputs": [
    {
     "data": {
      "text/plain": [
       "array([[1., 0., 0., 0., 0.],\n",
       "       [0., 1., 0., 0., 0.],\n",
       "       [0., 0., 1., 0., 0.],\n",
       "       [0., 0., 0., 1., 0.],\n",
       "       [0., 0., 0., 0., 1.]])"
      ]
     },
     "execution_count": 10,
     "metadata": {},
     "output_type": "execute_result"
    }
   ],
   "source": [
    "np.eye(5)"
   ]
  },
  {
   "cell_type": "code",
   "execution_count": 11,
   "id": "e2e515b0",
   "metadata": {
    "ExecuteTime": {
     "end_time": "2023-01-30T01:48:26.599590Z",
     "start_time": "2023-01-30T01:48:26.596306Z"
    }
   },
   "outputs": [
    {
     "data": {
      "text/plain": [
       "array([[1., 0., 0.],\n",
       "       [0., 1., 0.]])"
      ]
     },
     "execution_count": 11,
     "metadata": {},
     "output_type": "execute_result"
    }
   ],
   "source": [
    "np.eye(2,3)"
   ]
  },
  {
   "cell_type": "markdown",
   "id": "6e682361",
   "metadata": {},
   "source": [
    "## Evenly distributed matrix based on start, stop, #elements"
   ]
  },
  {
   "cell_type": "code",
   "execution_count": 12,
   "id": "7e0bb870",
   "metadata": {
    "ExecuteTime": {
     "end_time": "2023-01-30T01:48:26.605617Z",
     "start_time": "2023-01-30T01:48:26.601608Z"
    }
   },
   "outputs": [
    {
     "data": {
      "text/plain": [
       "array([ 1.,  2.,  3.,  4.,  5.,  6.,  7.,  8.,  9., 10.])"
      ]
     },
     "execution_count": 12,
     "metadata": {},
     "output_type": "execute_result"
    }
   ],
   "source": [
    "np.linspace(1,10,10)"
   ]
  },
  {
   "cell_type": "code",
   "execution_count": 13,
   "id": "19a11831",
   "metadata": {
    "ExecuteTime": {
     "end_time": "2023-01-30T01:48:26.611663Z",
     "start_time": "2023-01-30T01:48:26.607485Z"
    }
   },
   "outputs": [
    {
     "data": {
      "text/plain": [
       "array([ 1.        ,  1.47368421,  1.94736842,  2.42105263,  2.89473684,\n",
       "        3.36842105,  3.84210526,  4.31578947,  4.78947368,  5.26315789,\n",
       "        5.73684211,  6.21052632,  6.68421053,  7.15789474,  7.63157895,\n",
       "        8.10526316,  8.57894737,  9.05263158,  9.52631579, 10.        ])"
      ]
     },
     "execution_count": 13,
     "metadata": {},
     "output_type": "execute_result"
    }
   ],
   "source": [
    "np.linspace(1,10,20)"
   ]
  },
  {
   "cell_type": "markdown",
   "id": "c9b2510f",
   "metadata": {},
   "source": [
    "## Random Matrix"
   ]
  },
  {
   "cell_type": "code",
   "execution_count": 14,
   "id": "9e1cdd32",
   "metadata": {
    "ExecuteTime": {
     "end_time": "2023-01-30T02:40:00.629978Z",
     "start_time": "2023-01-30T02:40:00.626295Z"
    }
   },
   "outputs": [
    {
     "data": {
      "text/plain": [
       "array([[0.39404757, 0.42226827, 0.22994663, 0.76780813, 0.09490508],\n",
       "       [0.32146419, 0.64628545, 0.35046703, 0.40193774, 0.4192061 ],\n",
       "       [0.20025   , 0.28452442, 0.2971855 , 0.28054753, 0.76000767],\n",
       "       [0.36664756, 0.43834124, 0.12585739, 0.42290709, 0.29965288],\n",
       "       [0.86742237, 0.69679189, 0.15419646, 0.51060996, 0.96534852]])"
      ]
     },
     "execution_count": 14,
     "metadata": {},
     "output_type": "execute_result"
    }
   ],
   "source": [
    "np.random.rand(5,5)"
   ]
  },
  {
   "cell_type": "code",
   "execution_count": 18,
   "id": "4ca088ab",
   "metadata": {
    "ExecuteTime": {
     "end_time": "2023-01-30T02:40:56.284010Z",
     "start_time": "2023-01-30T02:40:56.279287Z"
    }
   },
   "outputs": [
    {
     "data": {
      "text/plain": [
       "array([7, 4, 0, 5])"
      ]
     },
     "execution_count": 18,
     "metadata": {},
     "output_type": "execute_result"
    }
   ],
   "source": [
    "np.random.randint(0,10, 4)"
   ]
  },
  {
   "cell_type": "code",
   "execution_count": 19,
   "id": "73c64d5e",
   "metadata": {
    "ExecuteTime": {
     "end_time": "2023-01-30T02:41:09.443324Z",
     "start_time": "2023-01-30T02:41:09.438825Z"
    }
   },
   "outputs": [
    {
     "data": {
      "text/plain": [
       "array([[8, 9, 0, 7],\n",
       "       [0, 6, 5, 1],\n",
       "       [2, 6, 1, 8],\n",
       "       [1, 2, 1, 6]])"
      ]
     },
     "execution_count": 19,
     "metadata": {},
     "output_type": "execute_result"
    }
   ],
   "source": [
    "np.random.randint(0,10, (4,4))"
   ]
  },
  {
   "cell_type": "markdown",
   "id": "8c6318ce",
   "metadata": {},
   "source": [
    "# Operation"
   ]
  },
  {
   "cell_type": "code",
   "execution_count": 25,
   "id": "8b5e3b1e",
   "metadata": {
    "ExecuteTime": {
     "end_time": "2023-01-30T02:44:27.879818Z",
     "start_time": "2023-01-30T02:44:27.874890Z"
    }
   },
   "outputs": [
    {
     "data": {
      "text/plain": [
       "array([1, 3, 9, 5, 9])"
      ]
     },
     "execution_count": 25,
     "metadata": {},
     "output_type": "execute_result"
    }
   ],
   "source": [
    "l = np.random.randint(1,11, 5)\n",
    "l"
   ]
  },
  {
   "cell_type": "markdown",
   "id": "42b2a2dd",
   "metadata": {},
   "source": [
    "## Get Max, Min"
   ]
  },
  {
   "cell_type": "code",
   "execution_count": 26,
   "id": "b19a23a0",
   "metadata": {
    "ExecuteTime": {
     "end_time": "2023-01-30T02:44:28.956225Z",
     "start_time": "2023-01-30T02:44:28.951887Z"
    }
   },
   "outputs": [
    {
     "data": {
      "text/plain": [
       "9"
      ]
     },
     "execution_count": 26,
     "metadata": {},
     "output_type": "execute_result"
    }
   ],
   "source": [
    "l.max()"
   ]
  },
  {
   "cell_type": "code",
   "execution_count": 27,
   "id": "04c47e2d",
   "metadata": {
    "ExecuteTime": {
     "end_time": "2023-01-30T02:44:29.141096Z",
     "start_time": "2023-01-30T02:44:29.136794Z"
    }
   },
   "outputs": [
    {
     "data": {
      "text/plain": [
       "1"
      ]
     },
     "execution_count": 27,
     "metadata": {},
     "output_type": "execute_result"
    }
   ],
   "source": [
    "l.min()"
   ]
  },
  {
   "cell_type": "markdown",
   "id": "e75d38ff",
   "metadata": {},
   "source": [
    "## Get Index of Max, Min"
   ]
  },
  {
   "cell_type": "code",
   "execution_count": 28,
   "id": "e7c7c308",
   "metadata": {
    "ExecuteTime": {
     "end_time": "2023-01-30T02:44:29.518218Z",
     "start_time": "2023-01-30T02:44:29.514026Z"
    }
   },
   "outputs": [
    {
     "data": {
      "text/plain": [
       "2"
      ]
     },
     "execution_count": 28,
     "metadata": {},
     "output_type": "execute_result"
    }
   ],
   "source": [
    "l.argmax()"
   ]
  },
  {
   "cell_type": "code",
   "execution_count": 29,
   "id": "4ad78c54",
   "metadata": {
    "ExecuteTime": {
     "end_time": "2023-01-30T02:44:29.986132Z",
     "start_time": "2023-01-30T02:44:29.981865Z"
    }
   },
   "outputs": [
    {
     "data": {
      "text/plain": [
       "0"
      ]
     },
     "execution_count": 29,
     "metadata": {},
     "output_type": "execute_result"
    }
   ],
   "source": [
    "l.argmin()"
   ]
  },
  {
   "cell_type": "markdown",
   "id": "94993204",
   "metadata": {},
   "source": [
    "## Slicing"
   ]
  },
  {
   "cell_type": "code",
   "execution_count": 31,
   "id": "08415b1a",
   "metadata": {
    "ExecuteTime": {
     "end_time": "2023-01-30T02:45:14.519745Z",
     "start_time": "2023-01-30T02:45:14.515661Z"
    }
   },
   "outputs": [
    {
     "data": {
      "text/plain": [
       "array([1, 3, 9, 5, 9])"
      ]
     },
     "execution_count": 31,
     "metadata": {},
     "output_type": "execute_result"
    }
   ],
   "source": [
    "l"
   ]
  },
  {
   "cell_type": "code",
   "execution_count": 30,
   "id": "a80f86d4",
   "metadata": {
    "ExecuteTime": {
     "end_time": "2023-01-30T02:45:09.802576Z",
     "start_time": "2023-01-30T02:45:09.798616Z"
    }
   },
   "outputs": [
    {
     "data": {
      "text/plain": [
       "array([3, 9, 5, 9])"
      ]
     },
     "execution_count": 30,
     "metadata": {},
     "output_type": "execute_result"
    }
   ],
   "source": [
    "l[1:]"
   ]
  },
  {
   "cell_type": "code",
   "execution_count": 32,
   "id": "bb991a2b",
   "metadata": {
    "ExecuteTime": {
     "end_time": "2023-01-30T02:45:20.002168Z",
     "start_time": "2023-01-30T02:45:19.998381Z"
    }
   },
   "outputs": [
    {
     "data": {
      "text/plain": [
       "array([9, 5, 9, 3, 1])"
      ]
     },
     "execution_count": 32,
     "metadata": {},
     "output_type": "execute_result"
    }
   ],
   "source": [
    "l[::-1]"
   ]
  },
  {
   "cell_type": "code",
   "execution_count": 36,
   "id": "5859288c",
   "metadata": {
    "ExecuteTime": {
     "end_time": "2023-01-30T02:47:52.627021Z",
     "start_time": "2023-01-30T02:47:52.622806Z"
    }
   },
   "outputs": [
    {
     "data": {
      "text/plain": [
       "array([1, 3, 9, 5, 9])"
      ]
     },
     "execution_count": 36,
     "metadata": {},
     "output_type": "execute_result"
    }
   ],
   "source": [
    "l"
   ]
  },
  {
   "cell_type": "code",
   "execution_count": 40,
   "id": "1f093fa2",
   "metadata": {
    "ExecuteTime": {
     "end_time": "2023-01-30T02:48:47.995653Z",
     "start_time": "2023-01-30T02:48:47.991769Z"
    }
   },
   "outputs": [
    {
     "data": {
      "text/plain": [
       "array([1, 9])"
      ]
     },
     "execution_count": 40,
     "metadata": {},
     "output_type": "execute_result"
    }
   ],
   "source": [
    "l[0:-1: 2]"
   ]
  },
  {
   "cell_type": "code",
   "execution_count": null,
   "id": "4c385b29",
   "metadata": {},
   "outputs": [],
   "source": []
  }
 ],
 "metadata": {
  "kernelspec": {
   "display_name": "Python 3 (ipykernel)",
   "language": "python",
   "name": "python3"
  },
  "language_info": {
   "codemirror_mode": {
    "name": "ipython",
    "version": 3
   },
   "file_extension": ".py",
   "mimetype": "text/x-python",
   "name": "python",
   "nbconvert_exporter": "python",
   "pygments_lexer": "ipython3",
   "version": "3.10.9"
  },
  "toc": {
   "base_numbering": 1,
   "nav_menu": {},
   "number_sections": true,
   "sideBar": true,
   "skip_h1_title": false,
   "title_cell": "Table of Contents",
   "title_sidebar": "Contents",
   "toc_cell": false,
   "toc_position": {},
   "toc_section_display": true,
   "toc_window_display": false
  },
  "varInspector": {
   "cols": {
    "lenName": 16,
    "lenType": 16,
    "lenVar": 40
   },
   "kernels_config": {
    "python": {
     "delete_cmd_postfix": "",
     "delete_cmd_prefix": "del ",
     "library": "var_list.py",
     "varRefreshCmd": "print(var_dic_list())"
    },
    "r": {
     "delete_cmd_postfix": ") ",
     "delete_cmd_prefix": "rm(",
     "library": "var_list.r",
     "varRefreshCmd": "cat(var_dic_list()) "
    }
   },
   "types_to_exclude": [
    "module",
    "function",
    "builtin_function_or_method",
    "instance",
    "_Feature"
   ],
   "window_display": false
  }
 },
 "nbformat": 4,
 "nbformat_minor": 5
}
